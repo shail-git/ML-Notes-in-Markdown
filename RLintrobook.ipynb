{
  "nbformat": 4,
  "nbformat_minor": 0,
  "metadata": {
    "colab": {
      "provenance": [],
      "authorship_tag": "ABX9TyPA4TuCKNa1K3XyH6opmf4k",
      "include_colab_link": true
    },
    "kernelspec": {
      "name": "python3",
      "display_name": "Python 3"
    },
    "language_info": {
      "name": "python"
    }
  },
  "cells": [
    {
      "cell_type": "markdown",
      "metadata": {
        "id": "view-in-github",
        "colab_type": "text"
      },
      "source": [
        "<a href=\"https://colab.research.google.com/github/shail-git/ML-Notes-in-Markdown/blob/master/RLintrobook.ipynb\" target=\"_parent\"><img src=\"https://colab.research.google.com/assets/colab-badge.svg\" alt=\"Open In Colab\"/></a>"
      ]
    },
    {
      "cell_type": "markdown",
      "source": [
        "# chap 2 - K-arm bandit problem"
      ],
      "metadata": {
        "id": "7cxNPLSaBVW1"
      }
    },
    {
      "cell_type": "markdown",
      "source": [
        "## base"
      ],
      "metadata": {
        "id": "1wrDtRKDSyyO"
      }
    },
    {
      "cell_type": "code",
      "source": [
        "import numpy as np\n",
        "import random\n",
        "import matplotlib.pyplot as plt\n"
      ],
      "metadata": {
        "id": "gE_7STbpAbn1"
      },
      "execution_count": 46,
      "outputs": []
    },
    {
      "cell_type": "code",
      "source": [
        "nArms = 10                  # n number of bandits\n",
        "iterations = 200         # number of repeated iterations\n",
        "plays = 1000                # number of pplays per iteration\n",
        "mean, stDev = 0, 1\n",
        "\n",
        "qtable = np.zeros(nArms)\n",
        "kAction = np.zeros(nArms)\n",
        "# rSum = np.zeros(nArms)\n",
        "qstar = np.full(nArms,5)   \n",
        "optim = 0                  \n",
        "\n",
        "# Array to store the scores, number of plays X number of agents\n",
        "scoreArr = np.zeros((plays, 1))\n",
        "# Array to maintain optimal count, Graph 2\n",
        "optimlArr = np.zeros((plays, 1))\n",
        "\n"
      ],
      "metadata": {
        "id": "TtBU31LTA82l"
      },
      "execution_count": 47,
      "outputs": []
    },
    {
      "cell_type": "code",
      "source": [
        "def choose_action(epsilon=0.01):\n",
        "  global qtable\n",
        "  randProb = np.random.random()   # Pick random probability between 0-1\n",
        "  if randProb < epsilon:\n",
        "      a = np.random.choice(len(qtable))    # Select random action\n",
        "\n",
        "  # Greedy Method\n",
        "  else:\n",
        "      maxAction = np.argmax(qtable)     # Find max value estimate\n",
        "      # identify the corresponding action, as array containing only actions with max\n",
        "      action = np.where(qtable == np.argmax(qtable))[0]\n",
        "      # If multiple actions contain the same value, randomly select an action\n",
        "      if len(action) == 0:\n",
        "          a = maxAction\n",
        "      else:\n",
        "          a = np.random.choice(action)\n",
        "  # save last action in variable, and return result\n",
        "  return a"
      ],
      "metadata": {
        "id": "CCUv2ah7FuRg"
      },
      "execution_count": 48,
      "outputs": []
    },
    {
      "cell_type": "code",
      "source": [
        "def agentstateupdate(reward, At):\n",
        "  global kAction, rSum, qtable, timeStep\n",
        "  # At => value of choosen action\n",
        "  kAction[At] += 1       # Add 1 to action selection\n",
        "  # rSum[At] += reward     # Add reward to sum array\n",
        "\n",
        "  # Calculate new action-value, sum(r)/ka\n",
        "  # qtable[At] = rSum[At]/kAction[At]\n",
        "  qtable[At] = qtable[At]+(reward-qtable[At])/kAction[At]\n",
        "\n",
        "  # Increase time step\n",
        "  timeStep += 1"
      ],
      "metadata": {
        "id": "z3VyWZ0PFufA"
      },
      "execution_count": 49,
      "outputs": []
    },
    {
      "cell_type": "code",
      "source": [
        "def reset():\n",
        "  global mean, stDev, nArms, qstar, optim, timeStep, kAction, rSum, qtable\n",
        "  timeStep = 0                    # Time Step t\n",
        "  lastAction = None               # Store last action\n",
        "\n",
        "  kAction[:] = 0                  # count of actions taken at time t\n",
        "  # rSum[:] = 0\n",
        "  qtable[:] = 0                   # action value estimates Qt ~= Q*(a)\n",
        "  # Set random gaussian/normal values using numpy function, requires mean, standard deviation and number of arms\n",
        "  qstar = np.random.normal(mean, stDev, nArms)\n",
        "\n",
        "  # Identify the maximum value in action array\n",
        "  optim = np.argmax(qstar)"
      ],
      "metadata": {
        "id": "Tf0hmtcZFusE"
      },
      "execution_count": 50,
      "outputs": []
    },
    {
      "cell_type": "code",
      "source": [
        "# loop for number of iterations\n",
        "for iIter in range(iterations):\n",
        "\n",
        "    # Print statement after every 100 iterations\n",
        "    if (iIter%100) == 0:\n",
        "        print(\"Completed Iterations: \",iIter)\n",
        "\n",
        "    #Reset testbed and all agents\n",
        "    reset()\n",
        "\n",
        "    # Loop for number of plays\n",
        "    for jPlays in range(plays):\n",
        "\n",
        "        actionT =  choose_action()\n",
        "\n",
        "        # Reward - normal dist (Q*(at), variance = 1)\n",
        "        rewardT = np.random.normal(qstar[actionT], scale=1)\n",
        "\n",
        "        # Agent checks state\n",
        "        agentstateupdate(rewardT, actionT)\n",
        "\n",
        "        # Add score in arrary, graph 1\n",
        "        scoreArr[jPlays] += rewardT\n",
        "\n",
        "        # check the optimal action, add optimal to array, graph 2\n",
        "        if actionT == optim:\n",
        "            optimlArr[jPlays] += 1"
      ],
      "metadata": {
        "colab": {
          "base_uri": "https://localhost:8080/"
        },
        "id": "82JN1qzsFMaE",
        "outputId": "f086b47c-e5d4-40d5-b6e3-f0eb635d7d3d"
      },
      "execution_count": 51,
      "outputs": [
        {
          "output_type": "stream",
          "name": "stdout",
          "text": [
            "Completed Iterations:  0\n",
            "Completed Iterations:  100\n"
          ]
        }
      ]
    },
    {
      "cell_type": "code",
      "source": [],
      "metadata": {
        "id": "6bRG3GsXBCbZ"
      },
      "execution_count": 51,
      "outputs": []
    },
    {
      "cell_type": "code",
      "source": [
        "print(\"Running...\")\n",
        "scoreAvg = scoreArr/iterations\n",
        "optimlAvg = optimlArr/iterations\n",
        "\n",
        "#Graph 1 - Averate rewards over all plays\n",
        "plt.title(\"10-Armed TestBed - Average Rewards\")\n",
        "plt.plot(scoreAvg)\n",
        "plt.ylabel('Average Reward')\n",
        "plt.xlabel('Plays')\n",
        "plt.show()\n",
        "\n",
        "#Graph 1 - optimal selections over all plays\n",
        "plt.title(\"10-Armed TestBed - % Optimal Action\")\n",
        "plt.plot(optimlAvg * 100)\n",
        "plt.ylim(0, 100)\n",
        "plt.ylabel('% Optimal Action')\n",
        "plt.xlabel('Plays')\n",
        "plt.show()"
      ],
      "metadata": {
        "colab": {
          "base_uri": "https://localhost:8080/",
          "height": 590
        },
        "id": "AsCG_e4ODqud",
        "outputId": "8ebae8fb-6f55-4685-d2f2-ef556e9cc99e"
      },
      "execution_count": 52,
      "outputs": [
        {
          "output_type": "stream",
          "name": "stdout",
          "text": [
            "Running...\n"
          ]
        },
        {
          "output_type": "display_data",
          "data": {
            "text/plain": [
              "<Figure size 432x288 with 1 Axes>"
            ],
            "image/png": "[encoded data removed]"
          },
          "metadata": {
            "needs_background": "light"
          }
        },
        {
          "output_type": "display_data",
          "data": {
            "text/plain": [
              "<Figure size 432x288 with 1 Axes>"
            ],
            "image/png": "[encoded data removed]"
          },
          "metadata": {
            "needs_background": "light"
          }
        }
      ]
    },
    {
      "cell_type": "markdown",
      "source": [
        "# chap- 3 marcov desision process\n",
        "\n",
        "\n",
        "\n",
        "\n",
        "\n"
      ],
      "metadata": {
        "id": "ki73Clwu6N_i"
      }
    },
    {
      "cell_type": "code",
      "source": [],
      "metadata": {
        "id": "az5htReeBdwG"
      },
      "execution_count": null,
      "outputs": []
    }
  ]
}